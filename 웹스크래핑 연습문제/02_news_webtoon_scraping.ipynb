{
 "cells": [
  {
   "cell_type": "code",
   "execution_count": null,
   "id": "0aa9c703",
   "metadata": {},
   "outputs": [
    {
     "name": "stdout",
     "output_type": "stream",
     "text": [
      "\n",
      "==== 최신뉴스 뉴스 ====\n",
      "URL: https://news.nate.com/recent?mid=n0100\n",
      "\n",
      "1. 산청 산사태 '마지막 실종자' 발견 못해…내일 아침 수색 재개\n",
      "   링크: https://news.nate.com/view/20250723n33685?mid=n0100\n",
      "   이미지: https://thumbnews.nateimg.co.kr/news90///news.nateimg.co.kr/orgImg/na/2025/07/23/7406626_high.jpg\n"
     ]
    },
    {
     "data": {
      "text/html": [
       "<img src=\"https://thumbnews.nateimg.co.kr/news90///news.nateimg.co.kr/orgImg/na/2025/07/23/7406626_high.jpg\"/>"
      ],
      "text/plain": [
       "<IPython.core.display.Image object>"
      ]
     },
     "metadata": {},
     "output_type": "display_data"
    },
    {
     "name": "stdout",
     "output_type": "stream",
     "text": [
      "------------------------------------------------------------\n",
      "2. 남부 최고 36도·체감 35도…곳곳에 폭염특보 예고(종합)\n",
      "   링크: https://news.nate.com/view/20250723n33684?mid=n0100\n",
      "   이미지: https://thumbnews.nateimg.co.kr/news90///news.nateimg.co.kr/orgImg/na/2025/07/23/7409198_high.jpg\n"
     ]
    },
    {
     "data": {
      "text/html": [
       "<img src=\"https://thumbnews.nateimg.co.kr/news90///news.nateimg.co.kr/orgImg/na/2025/07/23/7409198_high.jpg\"/>"
      ],
      "text/plain": [
       "<IPython.core.display.Image object>"
      ]
     },
     "metadata": {},
     "output_type": "display_data"
    },
    {
     "name": "stdout",
     "output_type": "stream",
     "text": [
      "------------------------------------------------------------\n",
      "3. \"내려갈 생각 없어\" 제로베이스원, 자신감 넘치는 한 방 '슬램덩크' [6시★살롱]\n",
      "   링크: https://news.nate.com/view/20250723n33683?mid=n0100\n",
      "   이미지: https://thumbnews.nateimg.co.kr/news90///news.nateimg.co.kr/orgImg/tn/2025/07/23/2025072315450138539_1.jpg\n"
     ]
    },
    {
     "data": {
      "text/html": [
       "<img src=\"https://thumbnews.nateimg.co.kr/news90///news.nateimg.co.kr/orgImg/tn/2025/07/23/2025072315450138539_1.jpg\"/>"
      ],
      "text/plain": [
       "<IPython.core.display.Image object>"
      ]
     },
     "metadata": {},
     "output_type": "display_data"
    },
    {
     "name": "stdout",
     "output_type": "stream",
     "text": [
      "------------------------------------------------------------\n",
      "4. [목요일 아침에] '세대 착취'가 '세대 연대'라는 요설\n",
      "   링크: https://news.nate.com/view/20250723n33682?mid=n0100\n",
      "   이미지: https://thumbnews.nateimg.co.kr/news90///news.nateimg.co.kr/orgImg/se/2025/07/23/2GVGNDY4UW_1.jpg\n"
     ]
    },
    {
     "data": {
      "text/html": [
       "<img src=\"https://thumbnews.nateimg.co.kr/news90///news.nateimg.co.kr/orgImg/se/2025/07/23/2GVGNDY4UW_1.jpg\"/>"
      ],
      "text/plain": [
       "<IPython.core.display.Image object>"
      ]
     },
     "metadata": {},
     "output_type": "display_data"
    },
    {
     "name": "stdout",
     "output_type": "stream",
     "text": [
      "------------------------------------------------------------\n",
      "5. 동아오츠카, 데미소다 레시피 콘테스트 수상작 시식 이벤트\n",
      "   링크: https://news.nate.com/view/20250723n33681?mid=n0100\n",
      "   이미지: https://thumbnews.nateimg.co.kr/news90///news.nateimg.co.kr/orgImg/se/2025/07/23/2GVGOE9KU5_1.jpg\n"
     ]
    },
    {
     "data": {
      "text/html": [
       "<img src=\"https://thumbnews.nateimg.co.kr/news90///news.nateimg.co.kr/orgImg/se/2025/07/23/2GVGOE9KU5_1.jpg\"/>"
      ],
      "text/plain": [
       "<IPython.core.display.Image object>"
      ]
     },
     "metadata": {},
     "output_type": "display_data"
    },
    {
     "name": "stdout",
     "output_type": "stream",
     "text": [
      "------------------------------------------------------------\n",
      "6. 중국 신설 이공계 연구중심대학 입시에서 돌풍…\"강력한 초기 투자\"\n",
      "   링크: https://news.nate.com/view/20250723n33680?mid=n0100\n",
      "   이미지: https://thumbnews.nateimg.co.kr/news90///news.nateimg.co.kr/orgImg/kh/2025/07/23/news-p.v1.20250723.6938986cb28d470dbe6cbf60e06a923c_P1.png\n"
     ]
    },
    {
     "data": {
      "text/html": [
       "<img src=\"https://thumbnews.nateimg.co.kr/news90///news.nateimg.co.kr/orgImg/kh/2025/07/23/news-p.v1.20250723.6938986cb28d470dbe6cbf60e06a923c_P1.png\"/>"
      ],
      "text/plain": [
       "<IPython.core.display.Image object>"
      ]
     },
     "metadata": {},
     "output_type": "display_data"
    },
    {
     "name": "stdout",
     "output_type": "stream",
     "text": [
      "------------------------------------------------------------\n",
      "\n",
      "==== 정치 뉴스 ====\n",
      "URL: https://news.nate.com/recent?mid=n0101\n",
      "\n",
      "1. 국힘, 두 차례 의총에도 혁신안 결론 못 내…차기 지도부에 '공'\n",
      "   링크: https://news.nate.com/view/20250723n33762?mid=n0101\n",
      "   이미지: https://thumbnews.nateimg.co.kr/news90///news.nateimg.co.kr/orgImg/na/2025/07/23/7409745_high.jpg\n"
     ]
    },
    {
     "data": {
      "text/html": [
       "<img src=\"https://thumbnews.nateimg.co.kr/news90///news.nateimg.co.kr/orgImg/na/2025/07/23/7409745_high.jpg\"/>"
      ],
      "text/plain": [
       "<IPython.core.display.Image object>"
      ]
     },
     "metadata": {},
     "output_type": "display_data"
    },
    {
     "name": "stdout",
     "output_type": "stream",
     "text": [
      "------------------------------------------------------------\n",
      "2. 고양시-학운협, 미래 교육을 함께 설계하다\n",
      "   링크: https://news.nate.com/view/20250723n33743?mid=n0101\n",
      "   이미지: https://thumbnews.nateimg.co.kr/news90///news.nateimg.co.kr/orgImg/ni/2025/07/23/2507231745229490.jpg\n"
     ]
    },
    {
     "data": {
      "text/html": [
       "<img src=\"https://thumbnews.nateimg.co.kr/news90///news.nateimg.co.kr/orgImg/ni/2025/07/23/2507231745229490.jpg\"/>"
      ],
      "text/plain": [
       "<IPython.core.display.Image object>"
      ]
     },
     "metadata": {},
     "output_type": "display_data"
    },
    {
     "name": "stdout",
     "output_type": "stream",
     "text": [
      "------------------------------------------------------------\n",
      "3. 尹 거부권 '농업4법' 일부 본회의 통과…방송법·지역화페법 등 8월로\n",
      "   링크: https://news.nate.com/view/20250723n32741?mid=n0101\n",
      "   이미지: https://thumbnews.nateimg.co.kr/news90///news.nateimg.co.kr/orgImg/no/2025/07/23/SSC_20250723173613_V.jpg\n"
     ]
    },
    {
     "data": {
      "text/html": [
       "<img src=\"https://thumbnews.nateimg.co.kr/news90///news.nateimg.co.kr/orgImg/no/2025/07/23/SSC_20250723173613_V.jpg\"/>"
      ],
      "text/plain": [
       "<IPython.core.display.Image object>"
      ]
     },
     "metadata": {},
     "output_type": "display_data"
    },
    {
     "name": "stdout",
     "output_type": "stream",
     "text": [
      "------------------------------------------------------------\n",
      "4. 장동혁에 주진우까지…국힘 초·재선 의원들 당권 출사표\n",
      "   링크: https://news.nate.com/view/20250723n33728?mid=n0101\n",
      "   이미지: https://thumbnews.nateimg.co.kr/news90///news.nateimg.co.kr/orgImg/hi/2025/07/23/ea722552-ffe2-4a1e-a009-f835e01e5858.jpg\n"
     ]
    },
    {
     "data": {
      "text/html": [
       "<img src=\"https://thumbnews.nateimg.co.kr/news90///news.nateimg.co.kr/orgImg/hi/2025/07/23/ea722552-ffe2-4a1e-a009-f835e01e5858.jpg\"/>"
      ],
      "text/plain": [
       "<IPython.core.display.Image object>"
      ]
     },
     "metadata": {},
     "output_type": "display_data"
    },
    {
     "name": "stdout",
     "output_type": "stream",
     "text": [
      "------------------------------------------------------------\n",
      "5. 김상환 헌재소장 후보자 국회서 임명동의안 통과\n",
      "   링크: https://news.nate.com/view/20250723n33722?mid=n0101\n",
      "   이미지: https://thumbnews.nateimg.co.kr/news90///news.nateimg.co.kr/orgImg/mk/2025/07/23/20250724_01110125000005_M00.jpg\n"
     ]
    },
    {
     "data": {
      "text/html": [
       "<img src=\"https://thumbnews.nateimg.co.kr/news90///news.nateimg.co.kr/orgImg/mk/2025/07/23/20250724_01110125000005_M00.jpg\"/>"
      ],
      "text/plain": [
       "<IPython.core.display.Image object>"
      ]
     },
     "metadata": {},
     "output_type": "display_data"
    },
    {
     "name": "stdout",
     "output_type": "stream",
     "text": [
      "------------------------------------------------------------\n",
      "6. 조경태, 혁신 후보 단일화  제안…100% 국민 여론조사 방식\n",
      "   링크: https://news.nate.com/view/20250723n33717?mid=n0101\n",
      "   이미지: https://thumbnews.nateimg.co.kr/news90///news.nateimg.co.kr/orgImg/na/2025/07/23/7408205_high.jpg\n"
     ]
    },
    {
     "data": {
      "text/html": [
       "<img src=\"https://thumbnews.nateimg.co.kr/news90///news.nateimg.co.kr/orgImg/na/2025/07/23/7408205_high.jpg\"/>"
      ],
      "text/plain": [
       "<IPython.core.display.Image object>"
      ]
     },
     "metadata": {},
     "output_type": "display_data"
    },
    {
     "name": "stdout",
     "output_type": "stream",
     "text": [
      "------------------------------------------------------------\n",
      "\n",
      "==== 경제 뉴스 ====\n",
      "URL: https://news.nate.com/recent?mid=n0102\n",
      "\n",
      "1. 소비쿠폰으로 불티나게 샀다…편의점서 매출 230% 뛴 이것\n",
      "   링크: https://news.nate.com/view/20250723n33368?mid=n0102\n",
      "   이미지: https://thumbnews.nateimg.co.kr/news90///news.nateimg.co.kr/orgImg/jo/2025/07/23/69d54b6b-1175-46dd-9f35-667c2af01531.jpg\n"
     ]
    },
    {
     "data": {
      "text/html": [
       "<img src=\"https://thumbnews.nateimg.co.kr/news90///news.nateimg.co.kr/orgImg/jo/2025/07/23/69d54b6b-1175-46dd-9f35-667c2af01531.jpg\"/>"
      ],
      "text/plain": [
       "<IPython.core.display.Image object>"
      ]
     },
     "metadata": {},
     "output_type": "display_data"
    },
    {
     "name": "stdout",
     "output_type": "stream",
     "text": [
      "------------------------------------------------------------\n",
      "2. LH, 경남 합천·진주 등 수해지역 피해복구 봉사활동 실시\n",
      "   링크: https://news.nate.com/view/20250723n32956?mid=n0102\n",
      "   이미지: https://thumbnews.nateimg.co.kr/news90///news.nateimg.co.kr/orgImg/dn/2025/07/23/news_1753261082_1526919_m_1.png\n"
     ]
    },
    {
     "data": {
      "text/html": [
       "<img src=\"https://thumbnews.nateimg.co.kr/news90///news.nateimg.co.kr/orgImg/dn/2025/07/23/news_1753261082_1526919_m_1.png\"/>"
      ],
      "text/plain": [
       "<IPython.core.display.Image object>"
      ]
     },
     "metadata": {},
     "output_type": "display_data"
    },
    {
     "name": "stdout",
     "output_type": "stream",
     "text": [
      "------------------------------------------------------------\n",
      "3. 농협, 재해자금 2000억 긴급 편성…호우피해 농가 영농재개 지원\n",
      "   링크: https://news.nate.com/view/20250723n33622?mid=n0102\n",
      "   이미지: https://thumbnews.nateimg.co.kr/news90///news.nateimg.co.kr/orgImg/at/2025/07/23/2025072401002222600136381.jpg\n"
     ]
    },
    {
     "data": {
      "text/html": [
       "<img src=\"https://thumbnews.nateimg.co.kr/news90///news.nateimg.co.kr/orgImg/at/2025/07/23/2025072401002222600136381.jpg\"/>"
      ],
      "text/plain": [
       "<IPython.core.display.Image object>"
      ]
     },
     "metadata": {},
     "output_type": "display_data"
    },
    {
     "name": "stdout",
     "output_type": "stream",
     "text": [
      "------------------------------------------------------------\n",
      "4. [단독] 尹 감세정책 뒤집는다…정부 '패키지 증세' 추진\n",
      "   링크: https://news.nate.com/view/20250723n33364?mid=n0102\n",
      "   이미지: https://thumbnews.nateimg.co.kr/news90///news.nateimg.co.kr/orgImg/hk/2025/07/23/02.31952006.1.jpg\n"
     ]
    },
    {
     "data": {
      "text/html": [
       "<img src=\"https://thumbnews.nateimg.co.kr/news90///news.nateimg.co.kr/orgImg/hk/2025/07/23/02.31952006.1.jpg\"/>"
      ],
      "text/plain": [
       "<IPython.core.display.Image object>"
      ]
     },
     "metadata": {},
     "output_type": "display_data"
    },
    {
     "name": "stdout",
     "output_type": "stream",
     "text": [
      "------------------------------------------------------------\n",
      "5. '역대급 실적' SK하이닉스, 상반기 PI 성과급 150% '최대치' 지급\n",
      "   링크: https://news.nate.com/view/20250723n33619?mid=n0102\n",
      "   이미지: https://thumbnews.nateimg.co.kr/news90///news.nateimg.co.kr/orgImg/mt/2025/07/23/2025072317540539707_1.jpg\n"
     ]
    },
    {
     "data": {
      "text/html": [
       "<img src=\"https://thumbnews.nateimg.co.kr/news90///news.nateimg.co.kr/orgImg/mt/2025/07/23/2025072317540539707_1.jpg\"/>"
      ],
      "text/plain": [
       "<IPython.core.display.Image object>"
      ]
     },
     "metadata": {},
     "output_type": "display_data"
    },
    {
     "name": "stdout",
     "output_type": "stream",
     "text": [
      "------------------------------------------------------------\n",
      "6. 중진공, 충남 디스플레이 산업 공급망 안정화 맞손\n",
      "   링크: https://news.nate.com/view/20250723n33607?mid=n0102\n",
      "   이미지: https://thumbnews.nateimg.co.kr/news90///news.nateimg.co.kr/orgImg/ni/2025/07/23/2507231702431040.jpg\n"
     ]
    },
    {
     "data": {
      "text/html": [
       "<img src=\"https://thumbnews.nateimg.co.kr/news90///news.nateimg.co.kr/orgImg/ni/2025/07/23/2507231702431040.jpg\"/>"
      ],
      "text/plain": [
       "<IPython.core.display.Image object>"
      ]
     },
     "metadata": {},
     "output_type": "display_data"
    },
    {
     "name": "stdout",
     "output_type": "stream",
     "text": [
      "------------------------------------------------------------\n",
      "\n",
      "==== 사회 뉴스 ====\n",
      "URL: https://news.nate.com/recent?mid=n0103\n",
      "\n",
      "1. 산청 산사태 '마지막 실종자' 발견 못해…내일 아침 수색 재개\n",
      "   링크: https://news.nate.com/view/20250723n33685?mid=n0103\n",
      "   이미지: https://thumbnews.nateimg.co.kr/news90///news.nateimg.co.kr/orgImg/na/2025/07/23/7406626_high.jpg\n"
     ]
    },
    {
     "data": {
      "text/html": [
       "<img src=\"https://thumbnews.nateimg.co.kr/news90///news.nateimg.co.kr/orgImg/na/2025/07/23/7406626_high.jpg\"/>"
      ],
      "text/plain": [
       "<IPython.core.display.Image object>"
      ]
     },
     "metadata": {},
     "output_type": "display_data"
    },
    {
     "name": "stdout",
     "output_type": "stream",
     "text": [
      "------------------------------------------------------------\n",
      "2. 남부 최고 36도·체감 35도…곳곳에 폭염특보 예고(종합)\n",
      "   링크: https://news.nate.com/view/20250723n33684?mid=n0103\n",
      "   이미지: https://thumbnews.nateimg.co.kr/news90///news.nateimg.co.kr/orgImg/na/2025/07/23/7409198_high.jpg\n"
     ]
    },
    {
     "data": {
      "text/html": [
       "<img src=\"https://thumbnews.nateimg.co.kr/news90///news.nateimg.co.kr/orgImg/na/2025/07/23/7409198_high.jpg\"/>"
      ],
      "text/plain": [
       "<IPython.core.display.Image object>"
      ]
     },
     "metadata": {},
     "output_type": "display_data"
    },
    {
     "name": "stdout",
     "output_type": "stream",
     "text": [
      "------------------------------------------------------------\n",
      "3. 檢, '23명 사망' 아리셀 박순관 대표에 징역 20년 구형…\"중처법 시행 이후 최악 사고\"\n",
      "   링크: https://news.nate.com/view/20250723n33674?mid=n0103\n",
      "   이미지: https://thumbnews.nateimg.co.kr/news90///news.nateimg.co.kr/orgImg/sg/2025/07/23/20250723517209.jpg\n"
     ]
    },
    {
     "data": {
      "text/html": [
       "<img src=\"https://thumbnews.nateimg.co.kr/news90///news.nateimg.co.kr/orgImg/sg/2025/07/23/20250723517209.jpg\"/>"
      ],
      "text/plain": [
       "<IPython.core.display.Image object>"
      ]
     },
     "metadata": {},
     "output_type": "display_data"
    },
    {
     "name": "stdout",
     "output_type": "stream",
     "text": [
      "------------------------------------------------------------\n",
      "4. [내일 날씨] 서울 한낮 36도까지…목요일도 찜통 더위\n",
      "   링크: https://news.nate.com/view/20250723n33670?mid=n0103\n",
      "   이미지: https://thumbnews.nateimg.co.kr/news90///news.nateimg.co.kr/orgImg/mt/2025/07/23/2025072317121045835_1.jpg\n"
     ]
    },
    {
     "data": {
      "text/html": [
       "<img src=\"https://thumbnews.nateimg.co.kr/news90///news.nateimg.co.kr/orgImg/mt/2025/07/23/2025072317121045835_1.jpg\"/>"
      ],
      "text/plain": [
       "<IPython.core.display.Image object>"
      ]
     },
     "metadata": {},
     "output_type": "display_data"
    },
    {
     "name": "stdout",
     "output_type": "stream",
     "text": [
      "------------------------------------------------------------\n",
      "5. '김건희 집사' 배우자 7시간만 귀가…'46억 행방' 등 조사\n",
      "   링크: https://news.nate.com/view/20250723n33666?mid=n0103\n",
      "   이미지: https://thumbnews.nateimg.co.kr/news90///news.nateimg.co.kr/orgImg/ns/2025/07/23/NISI20250723_0020900274_web.jpg\n"
     ]
    },
    {
     "data": {
      "text/html": [
       "<img src=\"https://thumbnews.nateimg.co.kr/news90///news.nateimg.co.kr/orgImg/ns/2025/07/23/NISI20250723_0020900274_web.jpg\"/>"
      ],
      "text/plain": [
       "<IPython.core.display.Image object>"
      ]
     },
     "metadata": {},
     "output_type": "display_data"
    },
    {
     "name": "stdout",
     "output_type": "stream",
     "text": [
      "------------------------------------------------------------\n",
      "6. '아리셀 참사' 박순관 대표에 징역 20년 구형…\"위험 알고도 생산 강행\"\n",
      "   링크: https://news.nate.com/view/20250723n33655?mid=n0103\n",
      "   이미지: https://thumbnews.nateimg.co.kr/news90///news.nateimg.co.kr/orgImg/jt/2025/07/23/09f90111-ed17-4236-a5e7-10e581971b79.jpg\n"
     ]
    },
    {
     "data": {
      "text/html": [
       "<img src=\"https://thumbnews.nateimg.co.kr/news90///news.nateimg.co.kr/orgImg/jt/2025/07/23/09f90111-ed17-4236-a5e7-10e581971b79.jpg\"/>"
      ],
      "text/plain": [
       "<IPython.core.display.Image object>"
      ]
     },
     "metadata": {},
     "output_type": "display_data"
    },
    {
     "name": "stdout",
     "output_type": "stream",
     "text": [
      "------------------------------------------------------------\n",
      "\n",
      "==== 세계 뉴스 ====\n",
      "URL: https://news.nate.com/recent?mid=n0104\n",
      "\n",
      "1. 중국 신설 이공계 연구중심대학 입시에서 돌풍…\"강력한 초기 투자\"\n",
      "   링크: https://news.nate.com/view/20250723n33680?mid=n0104\n",
      "   이미지: https://thumbnews.nateimg.co.kr/news90///news.nateimg.co.kr/orgImg/kh/2025/07/23/news-p.v1.20250723.6938986cb28d470dbe6cbf60e06a923c_P1.png\n"
     ]
    },
    {
     "data": {
      "text/html": [
       "<img src=\"https://thumbnews.nateimg.co.kr/news90///news.nateimg.co.kr/orgImg/kh/2025/07/23/news-p.v1.20250723.6938986cb28d470dbe6cbf60e06a923c_P1.png\"/>"
      ],
      "text/plain": [
       "<IPython.core.display.Image object>"
      ]
     },
     "metadata": {},
     "output_type": "display_data"
    },
    {
     "name": "stdout",
     "output_type": "stream",
     "text": [
      "------------------------------------------------------------\n",
      "2. 24명 군인 숨진 '국경충돌' 5년만에…인도 \"중국 관광비자 발급\"\n",
      "   링크: https://news.nate.com/view/20250723n33629?mid=n0104\n",
      "   이미지: https://thumbnews.nateimg.co.kr/news90///news.nateimg.co.kr/orgImg/mt/2025/07/23/2025072316020561371_1.jpg\n"
     ]
    },
    {
     "data": {
      "text/html": [
       "<img src=\"https://thumbnews.nateimg.co.kr/news90///news.nateimg.co.kr/orgImg/mt/2025/07/23/2025072316020561371_1.jpg\"/>"
      ],
      "text/plain": [
       "<IPython.core.display.Image object>"
      ]
     },
     "metadata": {},
     "output_type": "display_data"
    },
    {
     "name": "stdout",
     "output_type": "stream",
     "text": [
      "------------------------------------------------------------\n",
      "3. 쌀·자동차 수입 늘리고 760조원 투자…미국에 선물 보따리 안기고 급한 불 끈 일본\n",
      "   링크: https://news.nate.com/view/20250723n32251?mid=n0104\n",
      "   이미지: https://thumbnews.nateimg.co.kr/news90///news.nateimg.co.kr/orgImg/kh/2025/07/23/news-p.v1.20250723.e17881b8e23047c4b58ef3a4f9b1fbf5_P1.png\n"
     ]
    },
    {
     "data": {
      "text/html": [
       "<img src=\"https://thumbnews.nateimg.co.kr/news90///news.nateimg.co.kr/orgImg/kh/2025/07/23/news-p.v1.20250723.e17881b8e23047c4b58ef3a4f9b1fbf5_P1.png\"/>"
      ],
      "text/plain": [
       "<IPython.core.display.Image object>"
      ]
     },
     "metadata": {},
     "output_type": "display_data"
    },
    {
     "name": "stdout",
     "output_type": "stream",
     "text": [
      "------------------------------------------------------------\n",
      "4. \"트럼프, 美빅테크 보호에 무역전쟁 활용…디지털 세금·규제 철회 노려\"\n",
      "   링크: https://news.nate.com/view/20250723n33572?mid=n0104\n",
      "   이미지: https://thumbnews.nateimg.co.kr/news90///news.nateimg.co.kr/orgImg/na/2025/07/23/7381584_high.jpg\n"
     ]
    },
    {
     "data": {
      "text/html": [
       "<img src=\"https://thumbnews.nateimg.co.kr/news90///news.nateimg.co.kr/orgImg/na/2025/07/23/7381584_high.jpg\"/>"
      ],
      "text/plain": [
       "<IPython.core.display.Image object>"
      ]
     },
     "metadata": {},
     "output_type": "display_data"
    },
    {
     "name": "stdout",
     "output_type": "stream",
     "text": [
      "------------------------------------------------------------\n",
      "5. 러시아, 독일 제치고 유럽 맥주 생산량 1위\n",
      "   링크: https://news.nate.com/view/20250723n33546?mid=n0104\n",
      "   이미지: https://thumbnews.nateimg.co.kr/news90///news.nateimg.co.kr/orgImg/yt/2025/07/23/PTA20240831023501009_P2.jpg\n"
     ]
    },
    {
     "data": {
      "text/html": [
       "<img src=\"https://thumbnews.nateimg.co.kr/news90///news.nateimg.co.kr/orgImg/yt/2025/07/23/PTA20240831023501009_P2.jpg\"/>"
      ],
      "text/plain": [
       "<IPython.core.display.Image object>"
      ]
     },
     "metadata": {},
     "output_type": "display_data"
    },
    {
     "name": "stdout",
     "output_type": "stream",
     "text": [
      "------------------------------------------------------------\n",
      "6. 中 \"허리펑 부총리, 27∼30일 스웨덴 방문…美와 무역회담\"\n",
      "   링크: https://news.nate.com/view/20250723n33517?mid=n0104\n",
      "   이미지: https://thumbnews.nateimg.co.kr/news90///news.nateimg.co.kr/orgImg/ns/2025/07/23/NISI20250514_0000336097_web.jpg\n"
     ]
    },
    {
     "data": {
      "text/html": [
       "<img src=\"https://thumbnews.nateimg.co.kr/news90///news.nateimg.co.kr/orgImg/ns/2025/07/23/NISI20250514_0000336097_web.jpg\"/>"
      ],
      "text/plain": [
       "<IPython.core.display.Image object>"
      ]
     },
     "metadata": {},
     "output_type": "display_data"
    },
    {
     "name": "stdout",
     "output_type": "stream",
     "text": [
      "------------------------------------------------------------\n",
      "\n",
      "==== IT/과학 뉴스 ====\n",
      "URL: https://news.nate.com/recent?mid=n0105\n",
      "\n",
      "1. 엔에이백신연구소, 펩타이드 기반 결핵 백신 효과 입증\n",
      "   링크: https://news.nate.com/view/20250723n33555?mid=n0105\n",
      "   이미지: https://thumbnews.nateimg.co.kr/news90///news.nateimg.co.kr/orgImg/hk/2025/07/23/01.41201700.1.jpg\n"
     ]
    },
    {
     "data": {
      "text/html": [
       "<img src=\"https://thumbnews.nateimg.co.kr/news90///news.nateimg.co.kr/orgImg/hk/2025/07/23/01.41201700.1.jpg\"/>"
      ],
      "text/plain": [
       "<IPython.core.display.Image object>"
      ]
     },
     "metadata": {},
     "output_type": "display_data"
    },
    {
     "name": "stdout",
     "output_type": "stream",
     "text": [
      "------------------------------------------------------------\n",
      "2. 에이치랩, 네오핀 이더리움 및 카이아 계열 지갑 사업부문 이관\n",
      "   링크: https://news.nate.com/view/20250723n33508?mid=n0105\n",
      "   이미지: https://thumbnews.nateimg.co.kr/news90///news.nateimg.co.kr/orgImg/dg/2025/07/23/202507231648320838243da15d9d21839820252.jpg\n"
     ]
    },
    {
     "data": {
      "text/html": [
       "<img src=\"https://thumbnews.nateimg.co.kr/news90///news.nateimg.co.kr/orgImg/dg/2025/07/23/202507231648320838243da15d9d21839820252.jpg\"/>"
      ],
      "text/plain": [
       "<IPython.core.display.Image object>"
      ]
     },
     "metadata": {},
     "output_type": "display_data"
    },
    {
     "name": "stdout",
     "output_type": "stream",
     "text": [
      "------------------------------------------------------------\n",
      "3. 스튜디오비사이드, VC 및 금융기관 투자 유치\n",
      "   링크: https://news.nate.com/view/20250723n33504?mid=n0105\n",
      "   이미지: https://thumbnews.nateimg.co.kr/news90///news.nateimg.co.kr/orgImg/dg/2025/07/23/202507231656020003543da15d9d21839820252.jpg\n"
     ]
    },
    {
     "data": {
      "text/html": [
       "<img src=\"https://thumbnews.nateimg.co.kr/news90///news.nateimg.co.kr/orgImg/dg/2025/07/23/202507231656020003543da15d9d21839820252.jpg\"/>"
      ],
      "text/plain": [
       "<IPython.core.display.Image object>"
      ]
     },
     "metadata": {},
     "output_type": "display_data"
    },
    {
     "name": "stdout",
     "output_type": "stream",
     "text": [
      "------------------------------------------------------------\n",
      "4. [바이오게시판] 셀트리온, 수재민 지원 위해 5억 기부 등\n",
      "   링크: https://news.nate.com/view/20250723n33454?mid=n0105\n",
      "   이미지: https://thumbnews.nateimg.co.kr/news90///news.nateimg.co.kr/orgImg/cz/2025/07/23/cz_1753260905853_605396_0.jpg\n"
     ]
    },
    {
     "data": {
      "text/html": [
       "<img src=\"https://thumbnews.nateimg.co.kr/news90///news.nateimg.co.kr/orgImg/cz/2025/07/23/cz_1753260905853_605396_0.jpg\"/>"
      ],
      "text/plain": [
       "<IPython.core.display.Image object>"
      ]
     },
     "metadata": {},
     "output_type": "display_data"
    },
    {
     "name": "stdout",
     "output_type": "stream",
     "text": [
      "------------------------------------------------------------\n",
      "5. 페이레터-다윈KS, '디지털자산 결제서비스' 전략적 협약\n",
      "   링크: https://news.nate.com/view/20250723n33192?mid=n0105\n",
      "   이미지: https://thumbnews.nateimg.co.kr/news90///news.nateimg.co.kr/orgImg/in/2025/07/23/0a2381d0d67cc5.jpg\n"
     ]
    },
    {
     "data": {
      "text/html": [
       "<img src=\"https://thumbnews.nateimg.co.kr/news90///news.nateimg.co.kr/orgImg/in/2025/07/23/0a2381d0d67cc5.jpg\"/>"
      ],
      "text/plain": [
       "<IPython.core.display.Image object>"
      ]
     },
     "metadata": {},
     "output_type": "display_data"
    },
    {
     "name": "stdout",
     "output_type": "stream",
     "text": [
      "------------------------------------------------------------\n",
      "6. 엔에이백신연구소, 펩타이드 기반 결핵 예방백신 연구 국제학술제 게재\n",
      "   링크: https://news.nate.com/view/20250723n31962?mid=n0105\n",
      "   이미지: https://thumbnews.nateimg.co.kr/news90///news.nateimg.co.kr/orgImg/ed/2025/07/23/PS25072301148.jpg\n"
     ]
    },
    {
     "data": {
      "text/html": [
       "<img src=\"https://thumbnews.nateimg.co.kr/news90///news.nateimg.co.kr/orgImg/ed/2025/07/23/PS25072301148.jpg\"/>"
      ],
      "text/plain": [
       "<IPython.core.display.Image object>"
      ]
     },
     "metadata": {},
     "output_type": "display_data"
    },
    {
     "name": "stdout",
     "output_type": "stream",
     "text": [
      "------------------------------------------------------------\n"
     ]
    }
   ],
   "source": [
    "import requests\n",
    "from bs4 import BeautifulSoup\n",
    "from urllib.parse import urljoin\n",
    "from IPython.display import Image, display\n",
    "\n",
    "req_header = {\n",
    "    \"user-agent\": \"Mozilla/5.0 (Windows NT 10.0; Win64; x64) AppleWebKit/537.36 (KHTML, like Gecko) Chrome/104.0.0.0 Safari/537.36\"\n",
    "}\n",
    "\n",
    "section_dict = {\n",
    "    '최신뉴스': 'n0100',\n",
    "    '정치': 'n0101',\n",
    "    '경제': 'n0102',\n",
    "    '사회': 'n0103',\n",
    "    '세계': 'n0104',\n",
    "    'IT/과학': 'n0105'\n",
    "}\n",
    "\n",
    "base_url = 'https://news.nate.com/recent?mid='\n",
    "\n",
    "\n",
    "def scrape_nate_section(section_name):\n",
    "    if section_name not in section_dict:\n",
    "        print(f\"[ERROR] '{section_name}' 는 유효한 섹션명이 아닙니다.\")\n",
    "        return\n",
    "\n",
    "    section_mid = section_dict[section_name]\n",
    "    url = f\"{base_url}{section_mid}\"\n",
    "    print(f\"\\n==== {section_name} 뉴스 ====\")\n",
    "    print(f\"URL: {url}\\n\")\n",
    "\n",
    "    res = requests.get(url, headers=req_header)\n",
    "    res.encoding = res.apparent_encoding  # 인코딩 자동 감지\n",
    "\n",
    "    if not res.ok:\n",
    "        print(\"페이지 요청 실패\")\n",
    "        return\n",
    "\n",
    "    soup = BeautifulSoup(res.text, 'html.parser')\n",
    "\n",
    "    articles = soup.select('div.postSubjectContent div.mlt01')\n",
    "    if not articles:\n",
    "        print(\"기사를 찾을 수 없습니다.\")\n",
    "        return\n",
    "\n",
    "    for idx, article in enumerate(articles[:6], 1):\n",
    "        a_tag = article.find('a')\n",
    "        if not a_tag:\n",
    "            continue\n",
    "\n",
    "        title_tag = a_tag.find('h2', class_='tit')\n",
    "        title = title_tag.get_text(strip=True) if title_tag else \"제목 없음\"\n",
    "\n",
    "        link = urljoin(url, a_tag['href'])\n",
    "\n",
    "        img_tag = article.find('img')\n",
    "        if img_tag and img_tag.get('src'):\n",
    "            img_url = urljoin(url, img_tag['src'])\n",
    "        else:\n",
    "            img_url = None\n",
    "\n",
    "        print(f\"{idx}. {title}\")\n",
    "        print(f\"   링크: {link}\")\n",
    "        if img_url:\n",
    "            print(f\"   이미지: {img_url}\")\n",
    "            display(Image(url=img_url))\n",
    "        else:\n",
    "            print(\"   [이미지 없음]\")\n",
    "\n",
    "        print(\"-\" * 60)\n",
    "\n",
    "\n",
    "for section in section_dict.keys():\n",
    "    scrape_nate_section(section)\n"
   ]
  },
  {
   "cell_type": "code",
   "execution_count": null,
   "id": "2bba3929",
   "metadata": {},
   "outputs": [
    {
     "name": "stdout",
     "output_type": "stream",
     "text": [
      "[INFO] 저장 디렉토리: img\\일렉시드\\341\n",
      "[✔] 001.jpg (87,143 bytes) 저장 완료\n",
      "[✔] 002.jpg (256,127 bytes) 저장 완료\n",
      "[✔] 003.jpg (184,536 bytes) 저장 완료\n",
      "[✔] 004.jpg (182,867 bytes) 저장 완료\n",
      "[✔] 005.jpg (112,615 bytes) 저장 완료\n",
      "[✔] 006.jpg (169,889 bytes) 저장 완료\n",
      "[✔] 007.jpg (157,876 bytes) 저장 완료\n",
      "[✔] 008.jpg (181,837 bytes) 저장 완료\n",
      "[✔] 009.jpg (203,632 bytes) 저장 완료\n",
      "[✔] 010.jpg (113,543 bytes) 저장 완료\n",
      "[✔] 011.jpg (166,818 bytes) 저장 완료\n",
      "[✔] 012.jpg (196,171 bytes) 저장 완료\n",
      "[✔] 013.jpg (158,408 bytes) 저장 완료\n",
      "[✔] 014.jpg (203,525 bytes) 저장 완료\n",
      "[✔] 015.jpg (81,271 bytes) 저장 완료\n",
      "[✔] 016.jpg (171,092 bytes) 저장 완료\n",
      "[✔] 017.jpg (65,626 bytes) 저장 완료\n",
      "[✔] 018.jpg (135,215 bytes) 저장 완료\n",
      "[✔] 019.jpg (96,367 bytes) 저장 완료\n",
      "[✔] 020.jpg (139,925 bytes) 저장 완료\n",
      "[✔] 021.jpg (191,828 bytes) 저장 완료\n",
      "[✔] 022.jpg (211,389 bytes) 저장 완료\n",
      "[✔] 023.jpg (174,099 bytes) 저장 완료\n",
      "[✔] 024.jpg (187,978 bytes) 저장 완료\n",
      "[✔] 025.jpg (185,536 bytes) 저장 완료\n",
      "[✔] 026.jpg (286,246 bytes) 저장 완료\n",
      "[✔] 027.jpg (238,473 bytes) 저장 완료\n",
      "[✔] 028.jpg (148,309 bytes) 저장 완료\n",
      "[✔] 029.jpg (245,722 bytes) 저장 완료\n",
      "[✔] 030.jpg (232,985 bytes) 저장 완료\n",
      "[✔] 031.jpg (178,547 bytes) 저장 완료\n",
      "[✔] 032.jpg (176,348 bytes) 저장 완료\n",
      "[✔] 033.jpg (196,741 bytes) 저장 완료\n",
      "[✔] 034.jpg (232,565 bytes) 저장 완료\n",
      "[✔] 035.jpg (214,587 bytes) 저장 완료\n",
      "[✔] 036.jpg (137,502 bytes) 저장 완료\n",
      "[✔] 037.jpg (153,089 bytes) 저장 완료\n",
      "[✔] 038.jpg (250,210 bytes) 저장 완료\n",
      "[✔] 039.jpg (216,059 bytes) 저장 완료\n",
      "[✔] 040.jpg (203,977 bytes) 저장 완료\n",
      "[✔] 041.jpg (170,488 bytes) 저장 완료\n",
      "[✔] 042.jpg (150,868 bytes) 저장 완료\n",
      "[✔] 043.jpg (183,488 bytes) 저장 완료\n",
      "[✔] 044.jpg (205,269 bytes) 저장 완료\n",
      "[✔] 045.jpg (172,439 bytes) 저장 완료\n",
      "[✔] 046.jpg (179,258 bytes) 저장 완료\n",
      "[✔] 047.jpg (205,046 bytes) 저장 완료\n",
      "[✔] 048.jpg (196,106 bytes) 저장 완료\n",
      "[✔] 049.jpg (175,273 bytes) 저장 완료\n",
      "[✔] 050.jpg (320,751 bytes) 저장 완료\n",
      "[✔] 051.jpg (240,744 bytes) 저장 완료\n",
      "[✔] 052.jpg (158,821 bytes) 저장 완료\n",
      "[✔] 053.jpg (190,448 bytes) 저장 완료\n",
      "[✔] 054.jpg (156,224 bytes) 저장 완료\n",
      "[✔] 055.jpg (191,149 bytes) 저장 완료\n",
      "[✔] 056.jpg (137,781 bytes) 저장 완료\n",
      "[✔] 057.jpg (174,969 bytes) 저장 완료\n",
      "[✔] 058.jpg (169,813 bytes) 저장 완료\n",
      "[✔] 059.jpg (183,086 bytes) 저장 완료\n",
      "[✔] 060.jpg (191,297 bytes) 저장 완료\n",
      "[✔] 061.jpg (201,884 bytes) 저장 완료\n",
      "[✔] 062.jpg (186,718 bytes) 저장 완료\n",
      "[✔] 063.jpg (115,304 bytes) 저장 완료\n",
      "[✔] 064.jpg (239,910 bytes) 저장 완료\n",
      "[✔] 065.jpg (160,774 bytes) 저장 완료\n",
      "[✔] 066.jpg (188,427 bytes) 저장 완료\n",
      "[✔] 067.jpg (196,378 bytes) 저장 완료\n",
      "[✔] 068.jpg (195,161 bytes) 저장 완료\n",
      "[✔] 069.jpg (207,700 bytes) 저장 완료\n",
      "[✔] 070.jpg (191,109 bytes) 저장 완료\n",
      "[✔] 071.jpg (135,448 bytes) 저장 완료\n",
      "[✔] 072.jpg (254,244 bytes) 저장 완료\n",
      "[✔] 073.jpg (190,447 bytes) 저장 완료\n",
      "[✔] 074.jpg (140,545 bytes) 저장 완료\n",
      "[✔] 075.jpg (90,130 bytes) 저장 완료\n",
      "[✔] 076.jpg (194,086 bytes) 저장 완료\n",
      "[✔] 077.jpg (189,616 bytes) 저장 완료\n",
      "[✔] 078.jpg (244,264 bytes) 저장 완료\n",
      "[✔] 079.jpg (226,750 bytes) 저장 완료\n",
      "[✔] 080.jpg (73,608 bytes) 저장 완료\n",
      "[✔] 081.jpg (175,437 bytes) 저장 완료\n",
      "[✔] 082.jpg (141,961 bytes) 저장 완료\n",
      "[✔] 083.jpg (145,494 bytes) 저장 완료\n",
      "[✔] 084.jpg (121,081 bytes) 저장 완료\n",
      "[✔] 085.jpg (148,191 bytes) 저장 완료\n",
      "[✔] 086.jpg (186,055 bytes) 저장 완료\n",
      "[✔] 087.jpg (170,532 bytes) 저장 완료\n",
      "[✔] 088.jpg (99,449 bytes) 저장 완료\n",
      "✅ '일렉시드' 341화 다운로드 완료\n"
     ]
    }
   ],
   "source": [
    "import requests\n",
    "from bs4 import BeautifulSoup\n",
    "import os\n",
    "\n",
    "def download_one_episode(title, no, url):\n",
    "    \n",
    "    req_header = {\n",
    "        'referer': url,\n",
    "        \"user-agent\": \"Mozilla/5.0 (Windows NT 10.0; Win64; x64) AppleWebKit/537.36 (KHTML, like Gecko) Chrome/104.0.0.0 Safari/537.36\"\n",
    "    }\n",
    "\n",
    "    res = requests.get(url, headers=req_header)\n",
    "    if not res.ok:\n",
    "        print(f\"[ERROR] 페이지 요청 실패: {res.status_code}\")\n",
    "        return\n",
    "\n",
    "    soup = BeautifulSoup(res.text, 'html.parser')\n",
    "\n",
    "    img_tags = soup.select(\"img[src*='IMAG01']\")\n",
    "    if not img_tags:\n",
    "        print(\"이미지를 찾을 수 없습니다.\")\n",
    "        return\n",
    "\n",
    "    img_url_list = [img['src'] for img in img_tags]\n",
    "\n",
    "    save_dir = os.path.join(\"img\", title, str(no))\n",
    "    os.makedirs(save_dir, exist_ok=True)\n",
    "    print(f\"[INFO] 저장 디렉토리: {save_dir}\")\n",
    "\n",
    "    for idx, jpg_url in enumerate(img_url_list, 1):\n",
    "        res = requests.get(jpg_url, headers=req_header)\n",
    "        if res.ok:\n",
    "            img_data = res.content\n",
    "            filename = f\"{idx:03d}.jpg\"\n",
    "            filepath = os.path.join(save_dir, filename)\n",
    "\n",
    "            with open(filepath, 'wb') as file:\n",
    "                file.write(img_data)\n",
    "            print(f\"{filename} ({len(img_data):,} bytes) 저장 완료\")\n",
    "        else:\n",
    "            print(f\"이미지 요청 실패: {res.status_code} ({jpg_url})\")\n",
    "\n",
    "    print(f\"'{title}' {no}화 다운로드 완료\")\n",
    "\n",
    "\n",
    "download_one_episode(\n",
    "    '일렉시드',\n",
    "    341,\n",
    "    'https://comic.naver.com/webtoon/detail?titleId=717481&no=341&week=wed'\n",
    ")\n"
   ]
  }
 ],
 "metadata": {
  "kernelspec": {
   "display_name": "base",
   "language": "python",
   "name": "python3"
  },
  "language_info": {
   "codemirror_mode": {
    "name": "ipython",
    "version": 3
   },
   "file_extension": ".py",
   "mimetype": "text/x-python",
   "name": "python",
   "nbconvert_exporter": "python",
   "pygments_lexer": "ipython3",
   "version": "3.12.7"
  }
 },
 "nbformat": 4,
 "nbformat_minor": 5
}
